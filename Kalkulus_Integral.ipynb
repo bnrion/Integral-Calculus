{
  "nbformat": 4,
  "nbformat_minor": 0,
  "metadata": {
    "colab": {
      "provenance": [],
      "toc_visible": true
    },
    "kernelspec": {
      "name": "python3",
      "display_name": "Python 3"
    },
    "language_info": {
      "name": "python"
    }
  },
  "cells": [
    {
      "cell_type": "markdown",
      "source": [
        "## Kalkulus Integral"
      ],
      "metadata": {
        "id": "66Rsklxh9V7r"
      }
    },
    {
      "cell_type": "markdown",
      "source": [
        "![Rumus-Integral-1-e1518517988448.png](data:image/png;base64,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)"
      ],
      "metadata": {
        "id": "gajpzSek9e8g"
      }
    },
    {
      "cell_type": "markdown",
      "source": [
        "### Integral Tentu"
      ],
      "metadata": {
        "id": "rMfOMBoo9ryV"
      }
    },
    {
      "cell_type": "code",
      "execution_count": null,
      "metadata": {
        "colab": {
          "base_uri": "https://localhost:8080/"
        },
        "id": "y6nJFfh521ZN",
        "outputId": "6da145d4-9613-4389-a9d8-4835b8179578"
      },
      "outputs": [
        {
          "output_type": "stream",
          "name": "stdout",
          "text": [
            "Integral dari f(x) di [0,2]:  6.666666666666667\n"
          ]
        }
      ],
      "source": [
        "import scipy.integrate as spi\n",
        "\n",
        "\n",
        "def f(x):\n",
        "  return x**3 - 2*x**2 + 4 #fungsi kuadrat\n",
        "  \n",
        "a, b = 0 , 2 #batas atas & bawah\n",
        "\n",
        "integral, _ =  spi.quad(f, a, b)\n",
        "\n",
        "print(\"Integral dari f(x) di [0,2]: \", integral)"
      ]
    },
    {
      "cell_type": "code",
      "source": [
        "import scipy.integrate as spi\n",
        "\n",
        "\n",
        "def f(x):\n",
        "  return 1/2*x #fungsi kuadrat\n",
        "  \n",
        "a, b = 0 , 2 #batas atas & bawah\n",
        "\n",
        "integral, _ =  spi.quad(f, a, b)\n",
        "\n",
        "print(\"Integral dari f(x) di [0,2]: \", integral)"
      ],
      "metadata": {
        "colab": {
          "base_uri": "https://localhost:8080/"
        },
        "id": "kjHJEgWu9VRg",
        "outputId": "f3f25a21-5878-4250-bb0e-2c3c8ff26192"
      },
      "execution_count": null,
      "outputs": [
        {
          "output_type": "stream",
          "name": "stdout",
          "text": [
            "Integral dari f(x) di [0,2]:  1.0\n"
          ]
        }
      ]
    },
    {
      "cell_type": "code",
      "source": [
        "import scipy.integrate as spi\n",
        "import numpy as np\n",
        "\n",
        "\n",
        "def f(x):\n",
        "  return np.sin(x) #fungsi trigonometri\n",
        "  \n",
        "nilai_bawah, nilai_atas = 0 , np.pi/2 #batas atas & bawah\n",
        "\n",
        "integral, _ =  spi.quad(f, nilai_bawah, nilai_atas)\n",
        "\n",
        "print(\"Integral dari f(x) di [0,pi/2]: \", integral)"
      ],
      "metadata": {
        "colab": {
          "base_uri": "https://localhost:8080/"
        },
        "id": "iDY5NKlRAoT0",
        "outputId": "f93157ef-e9b0-4e8d-94df-09b77aa95e72"
      },
      "execution_count": null,
      "outputs": [
        {
          "output_type": "stream",
          "name": "stdout",
          "text": [
            "Integral dari f(x) di [0,pi/2]:  0.9999999999999999\n"
          ]
        }
      ]
    },
    {
      "cell_type": "markdown",
      "source": [
        "### Integral Tak Tentu"
      ],
      "metadata": {
        "id": "qInwbGFDCLtF"
      }
    },
    {
      "cell_type": "code",
      "source": [
        "import sympy as sym\n",
        "\n",
        "x = sym.Symbol('x')\n",
        "f = x**3 - 2*x**2 +4 #fungsi kuadrat\n",
        "\n",
        "F = sym.integrate(f,x)\n",
        "\n",
        "print(\"Integral tak tentu dari f(x): \", F)"
      ],
      "metadata": {
        "colab": {
          "base_uri": "https://localhost:8080/"
        },
        "id": "ct34ni-jCNfI",
        "outputId": "2b3fa7aa-ca51-4ef0-d165-a73b626c2897"
      },
      "execution_count": null,
      "outputs": [
        {
          "output_type": "stream",
          "name": "stdout",
          "text": [
            "Integral tak tentu dari f(x):  x**4/4 - 2*x**3/3 + 4*x\n"
          ]
        }
      ]
    },
    {
      "cell_type": "code",
      "source": [
        "import sympy as sym\n",
        "\n",
        "x = sym.Symbol('x')\n",
        "f = sym.sin(x) #fungsi trigonometri\n",
        "\n",
        "F = sym.integrate(f,x)\n",
        "\n",
        "print(\"Integral tak tentu dari f(x): \", F)"
      ],
      "metadata": {
        "colab": {
          "base_uri": "https://localhost:8080/"
        },
        "id": "pKZCMtvbCtUd",
        "outputId": "d4b82316-f010-404f-8a87-05e1f1259936"
      },
      "execution_count": null,
      "outputs": [
        {
          "output_type": "stream",
          "name": "stdout",
          "text": [
            "Integral tak tentu dari f(x):  -cos(x)\n"
          ]
        }
      ]
    },
    {
      "cell_type": "code",
      "source": [
        "import sympy as sym\n",
        "\n",
        "x = sym.Symbol('x')\n",
        "f = 1/x #fungsi log\n",
        "\n",
        "F = sym.integrate(f,x)\n",
        "\n",
        "print(\"Integral tak tentu dari f(x): \", F)"
      ],
      "metadata": {
        "colab": {
          "base_uri": "https://localhost:8080/"
        },
        "id": "RXJ1VwcTDr9z",
        "outputId": "0db95cf2-62dd-4b8f-b02b-b6b953335430"
      },
      "execution_count": null,
      "outputs": [
        {
          "output_type": "stream",
          "name": "stdout",
          "text": [
            "Integral tak tentu dari f(x):  log(x)\n"
          ]
        }
      ]
    },
    {
      "cell_type": "markdown",
      "source": [
        "## Aturan Integral"
      ],
      "metadata": {
        "id": "OGatrLUvEtC2"
      }
    },
    {
      "cell_type": "markdown",
      "source": [
        "### Tak Tentu"
      ],
      "metadata": {
        "id": "gRUBNhWoE1BQ"
      }
    },
    {
      "cell_type": "code",
      "source": [
        "#The power rule\n",
        "import sympy as sym\n",
        "\n",
        "x = sym.Symbol('x')\n",
        "f = x**3 - 2*x**2 +4 \n",
        "\n",
        "F = sym.integrate(f,x)\n",
        "\n",
        "print(\"Integral tak tentu dari f(x): \", F)"
      ],
      "metadata": {
        "colab": {
          "base_uri": "https://localhost:8080/"
        },
        "id": "j8kk5Sg3ETnX",
        "outputId": "79afc36b-cff3-41ad-a892-1b35c2a27302"
      },
      "execution_count": null,
      "outputs": [
        {
          "output_type": "stream",
          "name": "stdout",
          "text": [
            "Integral tak tentu dari f(x):  x**4/4 - 2*x**3/3 + 4*x\n"
          ]
        }
      ]
    },
    {
      "cell_type": "code",
      "source": [
        "#The constant multiple rule\n",
        "import sympy as sym\n",
        "\n",
        "x = sym.Symbol('x')\n",
        "c = 2\n",
        "f = c * (x**3 - 2*x**2 +4) \n",
        "\n",
        "F = sym.integrate(f,x)\n",
        "\n",
        "print(\"Integral tak tentu dari f(x): \", F)"
      ],
      "metadata": {
        "colab": {
          "base_uri": "https://localhost:8080/"
        },
        "id": "t9R9nWP9E_Vi",
        "outputId": "11964df0-1e07-4b32-e547-be215691ae26"
      },
      "execution_count": null,
      "outputs": [
        {
          "output_type": "stream",
          "name": "stdout",
          "text": [
            "Integral tak tentu dari f(x):  x**4/2 - 4*x**3/3 + 8*x\n"
          ]
        }
      ]
    },
    {
      "cell_type": "code",
      "source": [
        "#The sum rule\n",
        "import sympy as sym\n",
        "\n",
        "x = sym.Symbol('x')\n",
        "\n",
        "f1 = x**3\n",
        "f2 = x**2\n",
        "\n",
        "F = sym.integrate(f1+f2, x)\n",
        "\n",
        "print(\"Integral tak tentu dari f(x): \", F)"
      ],
      "metadata": {
        "colab": {
          "base_uri": "https://localhost:8080/"
        },
        "id": "7yLSthyiFMzD",
        "outputId": "6347df7e-a8ec-4ed8-f993-3d745ebbec2c"
      },
      "execution_count": null,
      "outputs": [
        {
          "output_type": "stream",
          "name": "stdout",
          "text": [
            "Integral tak tentu dari f(x):  x**4/4 + x**3/3\n"
          ]
        }
      ]
    },
    {
      "cell_type": "markdown",
      "source": [
        "### Tentu"
      ],
      "metadata": {
        "id": "HFNVui5rJZNg"
      }
    },
    {
      "cell_type": "code",
      "source": [
        "#The power rule\n",
        "import scipy.integrate as spi\n",
        "\n",
        "def f(x):\n",
        "  return x**3 - 2*x**2 + 4 #fungsi kuadrat\n",
        "  \n",
        "a, b = 0 , 2 #batas atas & bawah\n",
        "\n",
        "integral, _ =  spi.quad(f, a, b)\n",
        "\n",
        "print(\"Integral dari f(x) di [0,2]: \", integral)"
      ],
      "metadata": {
        "colab": {
          "base_uri": "https://localhost:8080/"
        },
        "id": "SUsOn_JtGP4K",
        "outputId": "810b7e2c-1841-4bb8-dd42-3e309dbbafdc"
      },
      "execution_count": null,
      "outputs": [
        {
          "output_type": "stream",
          "name": "stdout",
          "text": [
            "Integral dari f(x) di [0,2]:  6.666666666666667\n"
          ]
        }
      ]
    },
    {
      "cell_type": "code",
      "source": [
        "#The constant multiple rule\n",
        "import scipy.integrate as spi\n",
        "\n",
        "c = 2\n",
        "f = lambda x: c*x**3\n",
        "\n",
        "a = 0\n",
        "b = 1\n",
        "\n",
        "F, err = spi.quad(f, a, b)\n",
        "\n",
        "print(\"Integral tentu dari f(x) = 2x^3:\", F)\n"
      ],
      "metadata": {
        "colab": {
          "base_uri": "https://localhost:8080/"
        },
        "id": "GwppNte6JvxR",
        "outputId": "950ea064-f5ec-4d26-c24f-9399a182f348"
      },
      "execution_count": null,
      "outputs": [
        {
          "output_type": "stream",
          "name": "stdout",
          "text": [
            "Integral tentu dari f(x) = 2x^3: 0.5\n"
          ]
        }
      ]
    },
    {
      "cell_type": "code",
      "source": [
        "#The sum rule\n",
        "import scipy.integrate as spi\n",
        "\n",
        "f1 = lambda x: x**3\n",
        "f2 = lambda x: x**2\n",
        "\n",
        "a = 0\n",
        "b = 1\n",
        "\n",
        "F1, err1 = spi.quad(f1, a, b)\n",
        "F2, err2 = spi.quad(f2, a, b)\n",
        "\n",
        "F = F1 + F2\n",
        "\n",
        "print(\"Integral tentu dari f(x) = x^3 + x^2:\", F)\n"
      ],
      "metadata": {
        "colab": {
          "base_uri": "https://localhost:8080/"
        },
        "id": "QKBg5sKSJ_ZJ",
        "outputId": "a023e886-3744-4215-e554-5517247a3d1f"
      },
      "execution_count": null,
      "outputs": [
        {
          "output_type": "stream",
          "name": "stdout",
          "text": [
            "Integral tentu dari f(x) = x^3 + x^2: 0.5833333333333334\n"
          ]
        }
      ]
    },
    {
      "cell_type": "markdown",
      "source": [
        "### Use Case DS"
      ],
      "metadata": {
        "id": "zmT-KSstKWBC"
      }
    },
    {
      "cell_type": "code",
      "source": [
        "import numpy as np\n",
        "import matplotlib.pyplot as plt\n",
        "from scipy.integrate import quad\n",
        "\n",
        "#fungsi\n",
        "def f(x):\n",
        "  return x**2 + 2*x +1\n",
        "\n",
        "#membuat kurva\n",
        "x = np.linspace(-5, 5, num = 500)\n",
        "y = f(x)\n",
        "\n",
        "#mencari luas dibawah kurva fungsi kuadrat dari 0 hingga 2\n",
        "result, error = quad(f, 0, 2)\n",
        "\n",
        "#menampilkan hasil integral \n",
        "print(\"Luas dibawah kurva fungsi kuadrat adalah: \", result)\n",
        "\n",
        "#menampilkan grafik fungsi area dibawah kurva\n",
        "fig, ax = plt.subplots()\n",
        "ax.plot(x, y, 'r', linewidth=2)\n",
        "ax.fill_between(x, y, 0, where=((x>=0) & (x<=2)), alpha=0.2)\n",
        "ax.set_ylim(bottom=0)\n",
        "ax.set_xlim(left=0, right=4)\n",
        "ax.set_xlabel('x')\n",
        "ax.set_ylabel('f(x)')\n",
        "ax.set_title('Grafik Fungsi Kuadrat dan Luas di Bawah Kurva')\n",
        "\n",
        "plt.show()"
      ],
      "metadata": {
        "colab": {
          "base_uri": "https://localhost:8080/",
          "height": 312
        },
        "id": "8TtrtUlkKaHW",
        "outputId": "a062e0d9-1385-4d33-e814-22963521cbd7"
      },
      "execution_count": null,
      "outputs": [
        {
          "output_type": "stream",
          "name": "stdout",
          "text": [
            "Luas dibawah kurva fungsi kuadrat adalah:  8.666666666666668\n"
          ]
        },
        {
          "output_type": "display_data",
          "data": {
            "text/plain": [
              "<Figure size 432x288 with 1 Axes>"
            ],
            "image/png": "[encoded data removed]"
          },
          "metadata": {
            "needs_background": "light"
          }
        }
      ]
    }
  ]
}